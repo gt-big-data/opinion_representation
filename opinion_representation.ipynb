{
 "cells": [
  {
   "cell_type": "code",
   "execution_count": 15,
   "metadata": {
    "collapsed": false
   },
   "outputs": [
    {
     "name": "stdout",
     "output_type": "stream",
     "text": [
      "CPU times: user 517 ms, sys: 490 ms, total: 1.01 s\n",
      "Wall time: 7min 25s\n"
     ]
    }
   ],
   "source": [
    "%%time\n",
    "\n",
    "from pymongo import MongoClient\n",
    "db = MongoClient('mongodb://143.215.138.132:27017')['big_data']\n",
    "\n",
    "match = {'$match': {'hashtags': {'$in': ['news', 'stocks']}}}\n",
    "pipeline = [match]\n",
    "\n",
    "corpus = []\n",
    "for tweet in db.tweet.aggregate(pipeline):\n",
    "    corpus.append(tweet)"
   ]
  },
  {
   "cell_type": "code",
   "execution_count": 17,
   "metadata": {
    "collapsed": false
   },
   "outputs": [
    {
     "data": {
      "text/plain": [
       "11385"
      ]
     },
     "execution_count": 17,
     "metadata": {},
     "output_type": "execute_result"
    }
   ],
   "source": [
    "len(corpus)"
   ]
  },
  {
   "cell_type": "code",
   "execution_count": 19,
   "metadata": {
    "collapsed": false
   },
   "outputs": [
    {
     "data": {
      "text/plain": [
       "{'_id': ObjectId('580aec428548676a72103b70'),\n",
       " 'author_followers_count': 8450,\n",
       " 'author_id': '28156710',\n",
       " 'author_name': 'Truth Tweeter',\n",
       " 'favorite_count': 0,\n",
       " 'guid': '789686926802554880',\n",
       " 'hashtags': ['nyc', 'ny', 'newyork', 'cbs', 'cbsnews', 'news'],\n",
       " 'keywords': ['detailed',\n",
       "  'top',\n",
       "  'list',\n",
       "  'update',\n",
       "  '9',\n",
       "  'wikileaks',\n",
       "  'podesta',\n",
       "  'emails'],\n",
       " 'lat': 41.8335845,\n",
       " 'lon': -87.732013,\n",
       " 'mentions_id': [],\n",
       " 'mentions_name': [],\n",
       " 'retweet_count': 0,\n",
       " 'text': 'Detailed List of Top Wikileaks Podesta Emails (Update 9) https://t.co/PTxxMxvLGe #nyc #ny #newyork #cbs #cbsnews #news',\n",
       " 'timestamp': 1477111009,\n",
       " 'urls': ['https://t.co/PTxxMxvLGe'],\n",
       " 'words': ['detailed',\n",
       "  'list',\n",
       "  'of',\n",
       "  'top',\n",
       "  'wikileaks',\n",
       "  'podesta',\n",
       "  'emails',\n",
       "  'update',\n",
       "  '9']}"
      ]
     },
     "execution_count": 19,
     "metadata": {},
     "output_type": "execute_result"
    }
   ],
   "source": [
    "corpus[12]"
   ]
  },
  {
   "cell_type": "code",
   "execution_count": null,
   "metadata": {
    "collapsed": true
   },
   "outputs": [],
   "source": []
  }
 ],
 "metadata": {
  "kernelspec": {
   "display_name": "Python 3",
   "language": "python",
   "name": "python3"
  },
  "language_info": {
   "codemirror_mode": {
    "name": "ipython",
    "version": 3
   },
   "file_extension": ".py",
   "mimetype": "text/x-python",
   "name": "python",
   "nbconvert_exporter": "python",
   "pygments_lexer": "ipython3",
   "version": "3.6.4"
  }
 },
 "nbformat": 4,
 "nbformat_minor": 2
}
