{
 "cells": [
  {
   "cell_type": "code",
   "execution_count": 15,
   "metadata": {
    "collapsed": false
   },
   "outputs": [
    {
     "name": "stdout",
     "output_type": "stream",
     "text": [
      "CPU times: user 517 ms, sys: 490 ms, total: 1.01 s\n",
      "Wall time: 7min 25s\n"
     ]
    }
   ],
   "source": [
    "%%time\n",
    "\n",
    "from pymongo import MongoClient\n",
    "db = MongoClient('mongodb://143.215.138.132:27017')['big_data']\n",
    "\n",
    "match = {'$match': {'hashtags': {'$in': ['news']}}}\n",
    "pipeline = [match]\n",
    "\n",
    "corpus = []\n",
    "for tweet in db.tweet.aggregate(pipeline):\n",
    "    corpus.append(tweet)"
   ]
  },
  {
   "cell_type": "code",
   "execution_count": 17,
   "metadata": {
    "collapsed": false
   },
   "outputs": [
    {
     "data": {
      "text/plain": [
       "11385"
      ]
     },
     "execution_count": 17,
     "metadata": {},
     "output_type": "execute_result"
    }
   ],
   "source": [
    "len(corpus)"
   ]
  },
  {
   "cell_type": "code",
   "execution_count": 20,
   "metadata": {
    "collapsed": false
   },
   "outputs": [
    {
     "data": {
      "text/plain": [
       "{'_id': ObjectId('580afcdb8548676a72117465'),\n",
       " 'author_followers_count': 103,\n",
       " 'author_id': '616744867',\n",
       " 'author_name': 'jenny hashim',\n",
       " 'favorite_count': 0,\n",
       " 'guid': '789704727344709632',\n",
       " 'hashtags': ['news', 'JayZ', 'NorthWest'],\n",
       " 'keywords': [\"you're\",\n",
       "  'guess',\n",
       "  'honored',\n",
       "  'reporting',\n",
       "  'play',\n",
       "  'w',\n",
       "  'date',\n",
       "  'daughter',\n",
       "  'princess',\n",
       "  'really'],\n",
       " 'lat': 35.379813999999996,\n",
       " 'lon': -119.1679225,\n",
       " 'mentions_id': ['15169907'],\n",
       " 'mentions_name': ['Bravotv'],\n",
       " 'retweet_count': 0,\n",
       " 'text': \"@Bravotv Really? You're reporting this as #news 🙄 Guess #JayZ should be HONORED to have his daughter have a play date w/Princess #NorthWest\",\n",
       " 'timestamp': 1477115253,\n",
       " 'urls': [],\n",
       " 'words': ['really',\n",
       "  \"you're\",\n",
       "  'reporting',\n",
       "  'this',\n",
       "  'as',\n",
       "  'guess',\n",
       "  'should',\n",
       "  'be',\n",
       "  'honored',\n",
       "  'to',\n",
       "  'have',\n",
       "  'his',\n",
       "  'daughter',\n",
       "  'have',\n",
       "  'a',\n",
       "  'play',\n",
       "  'date',\n",
       "  'w',\n",
       "  'princess']}"
      ]
     },
     "execution_count": 20,
     "metadata": {},
     "output_type": "execute_result"
    }
   ],
   "source": [
    "corpus[15]"
   ]
  },
  {
   "cell_type": "code",
   "execution_count": 2,
   "metadata": {
    "collapsed": true
   },
   "outputs": [],
   "source": [
    "import spacy\n",
    "nlp = spacy.load('en')"
   ]
  },
  {
   "cell_type": "code",
   "execution_count": 3,
   "metadata": {
    "collapsed": false
   },
   "outputs": [
    {
     "name": "stdout",
     "output_type": "stream",
     "text": [
      "Georgia compound Tech PROPN []\n",
      "Tech nsubj is VERB [Georgia]\n",
      "is ROOT is VERB [Tech, great, !]\n",
      "great acomp is VERB []\n",
      "! punct is VERB []\n"
     ]
    }
   ],
   "source": [
    "doc = nlp('Georgia Tech is great!')\n",
    "for token in doc:\n",
    "    print(token.text, token.dep_, token.head.text, token.head.pos_,\n",
    "          [child for child in token.children])"
   ]
  },
  {
   "cell_type": "code",
   "execution_count": null,
   "metadata": {
    "collapsed": true
   },
   "outputs": [],
   "source": []
  }
 ],
 "metadata": {
  "kernelspec": {
   "display_name": "Python 3",
   "language": "python",
   "name": "python3"
  },
  "language_info": {
   "codemirror_mode": {
    "name": "ipython",
    "version": 3
   },
   "file_extension": ".py",
   "mimetype": "text/x-python",
   "name": "python",
   "nbconvert_exporter": "python",
   "pygments_lexer": "ipython3",
   "version": "3.6.4"
  }
 },
 "nbformat": 4,
 "nbformat_minor": 2
}
